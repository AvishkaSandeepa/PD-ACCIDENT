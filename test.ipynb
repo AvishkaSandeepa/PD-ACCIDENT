{
 "cells": [
  {
   "cell_type": "code",
   "execution_count": 36,
   "metadata": {},
   "outputs": [
    {
     "ename": "SyntaxError",
     "evalue": "invalid syntax (Temp/ipykernel_13604/393596392.py, line 10)",
     "output_type": "error",
     "traceback": [
      "\u001b[1;36m  File \u001b[1;32m\"C:\\Users\\AVISHK~1\\AppData\\Local\\Temp/ipykernel_13604/393596392.py\"\u001b[1;36m, line \u001b[1;32m10\u001b[0m\n\u001b[1;33m    pd.to_timedelta(10:00, unit=\"h\")\u001b[0m\n\u001b[1;37m                      ^\u001b[0m\n\u001b[1;31mSyntaxError\u001b[0m\u001b[1;31m:\u001b[0m invalid syntax\n"
     ]
    }
   ],
   "source": [
    "import pandas as pd\n",
    "import numpy as np\n",
    "df = pd.read_csv(\"Crash-Statistics-Victoria.csv\",usecols=[4,5,6,7,8,12,16,27])\n",
    "\n",
    "k = df['PERIOD'][0]\n",
    "\n",
    "df['PERIOD'] = pd.to_datetime(df['ACCIDENT_DATE'])\n",
    "#df\n",
    "\n",
    "pd.to_timedelta(10.00, unit=\"h\")\n",
    "\n",
    "\n"
   ]
  },
  {
   "cell_type": "code",
   "execution_count": null,
   "metadata": {},
   "outputs": [],
   "source": []
  }
 ],
 "metadata": {
  "interpreter": {
   "hash": "ff9c3df18c39e40a632fe67bd3f2effcf292bf7152cebacfc692487f5f951f29"
  },
  "kernelspec": {
   "display_name": "Python 3.8.10 64-bit (system)",
   "name": "python3"
  },
  "language_info": {
   "codemirror_mode": {
    "name": "ipython",
    "version": 3
   },
   "file_extension": ".py",
   "mimetype": "text/x-python",
   "name": "python",
   "nbconvert_exporter": "python",
   "pygments_lexer": "ipython3",
   "version": "3.8.10"
  },
  "orig_nbformat": 4
 },
 "nbformat": 4,
 "nbformat_minor": 2
}
